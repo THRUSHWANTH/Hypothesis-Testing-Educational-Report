{
 "cells": [
  {
   "cell_type": "code",
   "execution_count": 4,
   "id": "b2f3b477",
   "metadata": {},
   "outputs": [],
   "source": [
    "import pandas as pd\n",
    "import numpy as np"
   ]
  },
  {
   "cell_type": "code",
   "execution_count": 5,
   "id": "3840f6b4",
   "metadata": {},
   "outputs": [
    {
     "name": "stdout",
     "output_type": "stream",
     "text": [
      "Number of students: 382\n"
     ]
    },
    {
     "data": {
      "text/html": [
       "<div>\n",
       "<style scoped>\n",
       "    .dataframe tbody tr th:only-of-type {\n",
       "        vertical-align: middle;\n",
       "    }\n",
       "\n",
       "    .dataframe tbody tr th {\n",
       "        vertical-align: top;\n",
       "    }\n",
       "\n",
       "    .dataframe thead th {\n",
       "        text-align: right;\n",
       "    }\n",
       "</style>\n",
       "<table border=\"1\" class=\"dataframe\">\n",
       "  <thead>\n",
       "    <tr style=\"text-align: right;\">\n",
       "      <th></th>\n",
       "      <th>school</th>\n",
       "      <th>sex</th>\n",
       "      <th>age</th>\n",
       "      <th>address</th>\n",
       "      <th>famsize</th>\n",
       "      <th>Pstatus</th>\n",
       "      <th>Medu</th>\n",
       "      <th>Fedu</th>\n",
       "      <th>Mjob</th>\n",
       "      <th>Fjob</th>\n",
       "      <th>...</th>\n",
       "      <th>famrel_y</th>\n",
       "      <th>freetime_y</th>\n",
       "      <th>goout_y</th>\n",
       "      <th>Dalc_y</th>\n",
       "      <th>Walc_y</th>\n",
       "      <th>health_y</th>\n",
       "      <th>absences_y</th>\n",
       "      <th>G1_y</th>\n",
       "      <th>G2_y</th>\n",
       "      <th>G3_y</th>\n",
       "    </tr>\n",
       "  </thead>\n",
       "  <tbody>\n",
       "    <tr>\n",
       "      <th>0</th>\n",
       "      <td>GP</td>\n",
       "      <td>F</td>\n",
       "      <td>18</td>\n",
       "      <td>U</td>\n",
       "      <td>GT3</td>\n",
       "      <td>A</td>\n",
       "      <td>4</td>\n",
       "      <td>4</td>\n",
       "      <td>at_home</td>\n",
       "      <td>teacher</td>\n",
       "      <td>...</td>\n",
       "      <td>4</td>\n",
       "      <td>3</td>\n",
       "      <td>4</td>\n",
       "      <td>1</td>\n",
       "      <td>1</td>\n",
       "      <td>3</td>\n",
       "      <td>4</td>\n",
       "      <td>0</td>\n",
       "      <td>11</td>\n",
       "      <td>11</td>\n",
       "    </tr>\n",
       "    <tr>\n",
       "      <th>1</th>\n",
       "      <td>GP</td>\n",
       "      <td>F</td>\n",
       "      <td>17</td>\n",
       "      <td>U</td>\n",
       "      <td>GT3</td>\n",
       "      <td>T</td>\n",
       "      <td>1</td>\n",
       "      <td>1</td>\n",
       "      <td>at_home</td>\n",
       "      <td>other</td>\n",
       "      <td>...</td>\n",
       "      <td>5</td>\n",
       "      <td>3</td>\n",
       "      <td>3</td>\n",
       "      <td>1</td>\n",
       "      <td>1</td>\n",
       "      <td>3</td>\n",
       "      <td>2</td>\n",
       "      <td>9</td>\n",
       "      <td>11</td>\n",
       "      <td>11</td>\n",
       "    </tr>\n",
       "    <tr>\n",
       "      <th>2</th>\n",
       "      <td>GP</td>\n",
       "      <td>F</td>\n",
       "      <td>15</td>\n",
       "      <td>U</td>\n",
       "      <td>LE3</td>\n",
       "      <td>T</td>\n",
       "      <td>1</td>\n",
       "      <td>1</td>\n",
       "      <td>at_home</td>\n",
       "      <td>other</td>\n",
       "      <td>...</td>\n",
       "      <td>4</td>\n",
       "      <td>3</td>\n",
       "      <td>2</td>\n",
       "      <td>2</td>\n",
       "      <td>3</td>\n",
       "      <td>3</td>\n",
       "      <td>6</td>\n",
       "      <td>12</td>\n",
       "      <td>13</td>\n",
       "      <td>12</td>\n",
       "    </tr>\n",
       "    <tr>\n",
       "      <th>3</th>\n",
       "      <td>GP</td>\n",
       "      <td>F</td>\n",
       "      <td>15</td>\n",
       "      <td>U</td>\n",
       "      <td>GT3</td>\n",
       "      <td>T</td>\n",
       "      <td>4</td>\n",
       "      <td>2</td>\n",
       "      <td>health</td>\n",
       "      <td>services</td>\n",
       "      <td>...</td>\n",
       "      <td>3</td>\n",
       "      <td>2</td>\n",
       "      <td>2</td>\n",
       "      <td>1</td>\n",
       "      <td>1</td>\n",
       "      <td>5</td>\n",
       "      <td>0</td>\n",
       "      <td>14</td>\n",
       "      <td>14</td>\n",
       "      <td>14</td>\n",
       "    </tr>\n",
       "    <tr>\n",
       "      <th>4</th>\n",
       "      <td>GP</td>\n",
       "      <td>F</td>\n",
       "      <td>16</td>\n",
       "      <td>U</td>\n",
       "      <td>GT3</td>\n",
       "      <td>T</td>\n",
       "      <td>3</td>\n",
       "      <td>3</td>\n",
       "      <td>other</td>\n",
       "      <td>other</td>\n",
       "      <td>...</td>\n",
       "      <td>4</td>\n",
       "      <td>3</td>\n",
       "      <td>2</td>\n",
       "      <td>1</td>\n",
       "      <td>2</td>\n",
       "      <td>5</td>\n",
       "      <td>0</td>\n",
       "      <td>11</td>\n",
       "      <td>13</td>\n",
       "      <td>13</td>\n",
       "    </tr>\n",
       "  </tbody>\n",
       "</table>\n",
       "<p>5 rows × 53 columns</p>\n",
       "</div>"
      ],
      "text/plain": [
       "  school sex  age address famsize Pstatus  Medu  Fedu     Mjob      Fjob  ...  \\\n",
       "0     GP   F   18       U     GT3       A     4     4  at_home   teacher  ...   \n",
       "1     GP   F   17       U     GT3       T     1     1  at_home     other  ...   \n",
       "2     GP   F   15       U     LE3       T     1     1  at_home     other  ...   \n",
       "3     GP   F   15       U     GT3       T     4     2   health  services  ...   \n",
       "4     GP   F   16       U     GT3       T     3     3    other     other  ...   \n",
       "\n",
       "  famrel_y freetime_y  goout_y  Dalc_y  Walc_y health_y absences_y G1_y G2_y  \\\n",
       "0        4          3        4       1       1        3          4    0   11   \n",
       "1        5          3        3       1       1        3          2    9   11   \n",
       "2        4          3        2       2       3        3          6   12   13   \n",
       "3        3          2        2       1       1        5          0   14   14   \n",
       "4        4          3        2       1       2        5          0   11   13   \n",
       "\n",
       "  G3_y  \n",
       "0   11  \n",
       "1   11  \n",
       "2   12  \n",
       "3   14  \n",
       "4   13  \n",
       "\n",
       "[5 rows x 53 columns]"
      ]
     },
     "execution_count": 5,
     "metadata": {},
     "output_type": "execute_result"
    }
   ],
   "source": [
    "import pandas as pd\n",
    "\n",
    "# Reading the CSV files\n",
    "d1 = pd.read_csv(\"student-mat.csv\", sep=\";\")\n",
    "d2 = pd.read_csv(\"student-por.csv\", sep=\";\")\n",
    "\n",
    "# Merging the DataFrames on specified columns\n",
    "merge_columns = [\"school\", \"sex\", \"age\", \"address\", \"famsize\", \"Pstatus\", \"Medu\", \"Fedu\", \"Mjob\", \"Fjob\", \"reason\", \"nursery\", \"internet\"]\n",
    "d3 = pd.merge(d1, d2, on=merge_columns)\n",
    "\n",
    "# Print the number of rows in the merged DataFrame\n",
    "print(f\"Number of students: {len(d3)}\")\n",
    "d3.head()\n"
   ]
  },
  {
   "cell_type": "code",
   "execution_count": 6,
   "id": "566d9a63",
   "metadata": {},
   "outputs": [
    {
     "name": "stdout",
     "output_type": "stream",
     "text": [
      "Index(['school', 'sex', 'age', 'address', 'famsize', 'Pstatus', 'Medu', 'Fedu',\n",
      "       'Mjob', 'Fjob', 'reason', 'guardian_x', 'traveltime_x', 'studytime_x',\n",
      "       'failures_x', 'schoolsup_x', 'famsup_x', 'paid_x', 'activities_x',\n",
      "       'nursery', 'higher_x', 'internet', 'romantic_x', 'famrel_x',\n",
      "       'freetime_x', 'goout_x', 'Dalc_x', 'Walc_x', 'health_x', 'absences_x',\n",
      "       'G1_x', 'G2_x', 'G3_x', 'guardian_y', 'traveltime_y', 'studytime_y',\n",
      "       'failures_y', 'schoolsup_y', 'famsup_y', 'paid_y', 'activities_y',\n",
      "       'higher_y', 'romantic_y', 'famrel_y', 'freetime_y', 'goout_y', 'Dalc_y',\n",
      "       'Walc_y', 'health_y', 'absences_y', 'G1_y', 'G2_y', 'G3_y'],\n",
      "      dtype='object')\n"
     ]
    }
   ],
   "source": [
    "print(d3.columns)"
   ]
  },
  {
   "cell_type": "code",
   "execution_count": 7,
   "id": "e1e89342",
   "metadata": {},
   "outputs": [],
   "source": [
    "# Combing Medu and Fedu to create combined parent education \n",
    "\n",
    "d3['Combined_Parent_Edu'] = d3[['Medu', 'Fedu']].max(axis=1)\n"
   ]
  },
  {
   "cell_type": "markdown",
   "id": "23bc27bc",
   "metadata": {},
   "source": [
    "The resulting series (a column) of maximum values is then assigned to a new column in d3 called Combined_Parent_Edu.\n"
   ]
  },
  {
   "cell_type": "code",
   "execution_count": 8,
   "id": "92ff5954",
   "metadata": {
    "scrolled": true
   },
   "outputs": [
    {
     "name": "stdout",
     "output_type": "stream",
     "text": [
      "Frequency distribution of combined parental education levels:\n",
      "1     36\n",
      "2     90\n",
      "3     97\n",
      "4    159\n",
      "Name: Combined_Parent_Edu, dtype: int64\n"
     ]
    }
   ],
   "source": [
    "# Calculate frequency distribution\n",
    "combined_edu_freq = d3['Combined_Parent_Edu'].value_counts().sort_index()\n",
    "\n",
    "print(\"Frequency distribution of combined parental education levels:\")\n",
    "print(combined_edu_freq)\n"
   ]
  },
  {
   "cell_type": "code",
   "execution_count": 9,
   "id": "d81a0cc4",
   "metadata": {},
   "outputs": [
    {
     "data": {
      "image/png": "[encoded data removed]",
      "text/plain": [
       "<Figure size 1000x600 with 1 Axes>"
      ]
     },
     "metadata": {},
     "output_type": "display_data"
    }
   ],
   "source": [
    "import matplotlib.pyplot as plt\n",
    "\n",
    "# Plotting a histogram\n",
    "plt.figure(figsize=(10, 6))\n",
    "d3['Combined_Parent_Edu'].hist(bins=range(6), rwidth=0.8, align='left')\n",
    "plt.title('Distribution of Combined Parental Education Level')\n",
    "plt.xlabel('Combined Parental Education Level')\n",
    "plt.ylabel('Number of Students')\n",
    "plt.xticks(range(5))\n",
    "plt.grid(axis='y')\n",
    "\n",
    "plt.show()\n"
   ]
  },
  {
   "cell_type": "markdown",
   "id": "25a00a32",
   "metadata": {},
   "source": [
    "Interpretation\n",
    "This distribution indicates a sufficient number of observations across each combined parental education level to proceed with ANOVA. It's noteworthy that the number of students increases with higher levels of parental education.\n",
    "\n",
    "Proceeding with the ANOVA analysis with these groups. This balanced enough distribution across the levels allows for a meaningful comparison of the impact of different levels of parental education on students' final grades."
   ]
  },
  {
   "cell_type": "markdown",
   "id": "d4377b81",
   "metadata": {},
   "source": [
    "Hypotheses for Combined Analysis\n",
    "Null Hypothesis (H0): There is no significant difference in student performance (final grades in Math G3_x and Portuguese G3_y) across the different levels of combined parental education.\n",
    "\n",
    "Alternative Hypothesis (H1): Student performance (final grades in Math G3_x and Portuguese G3_y) differs significantly among the different levels of combined parental education."
   ]
  },
  {
   "cell_type": "code",
   "execution_count": 10,
   "id": "7a7386cf",
   "metadata": {},
   "outputs": [
    {
     "name": "stdout",
     "output_type": "stream",
     "text": [
      "ANOVA for Math Subject - Combined Parental Education:\n",
      "F-statistic: 6.729, p-value: 0.000\n"
     ]
    }
   ],
   "source": [
    "# Lets do annova test for math subject \n",
    "from scipy.stats import f_oneway\n",
    "\n",
    "# Extracting final grades for each combined parental education level for the math subject\n",
    "grades_by_parent_edu = [d3[d3['Combined_Parent_Edu'] == level]['G3_x'] for level in range(1, 5)]  # Levels 1 to 4\n",
    "\n",
    "# Performing ANOVA\n",
    "f_stat, p_value = f_oneway(*grades_by_parent_edu)\n",
    "\n",
    "print(f'ANOVA for Math Subject - Combined Parental Education:')\n",
    "print(f'F-statistic: {f_stat:.3f}, p-value: {p_value:.3f}')\n"
   ]
  },
  {
   "cell_type": "markdown",
   "id": "215e1597",
   "metadata": {},
   "source": [
    "Interpretation:\n",
    "\n",
    "These results indicate that there are statistically significant differences in math final grades (G3_x) among the different levels of combined parental education. The extremely low p-value (reported as 0.000, suggesting it's very close to zero but not exactly zero due to rounding) strongly rejects the null hypothesis (H0), supporting the alternative hypothesis (H1) that student performance in math differs significantly across the various levels of combined parental education."
   ]
  },
  {
   "cell_type": "code",
   "execution_count": 11,
   "id": "456b87cf",
   "metadata": {},
   "outputs": [
    {
     "name": "stdout",
     "output_type": "stream",
     "text": [
      "Multiple Comparison of Means - Tukey HSD, FWER=0.05\n",
      "===================================================\n",
      "group1 group2 meandiff p-adj   lower  upper  reject\n",
      "---------------------------------------------------\n",
      "     1      2   1.4389 0.3847 -0.8943 3.7721  False\n",
      "     1      3   2.2878 0.0532 -0.0212 4.5968  False\n",
      "     1      4   3.3255 0.0006  1.1417 5.5092   True\n",
      "     2      3   0.8489 0.5858 -0.8827 2.5805  False\n",
      "     2      4   1.8866 0.0105  0.3259 3.4473   True\n",
      "     3      4   1.0377 0.2961 -0.4866  2.562  False\n",
      "---------------------------------------------------\n"
     ]
    }
   ],
   "source": [
    "# Post hoc analysis \n",
    "from statsmodels.stats.multicomp import pairwise_tukeyhsd\n",
    "\n",
    "# Assuming 'd3' has a column 'G3_x' for math grades and 'Combined_Parent_Edu' for the combined education levels\n",
    "tukey = pairwise_tukeyhsd(endog=d3['G3_x'], groups=d3['Combined_Parent_Edu'], alpha=0.05)\n",
    "\n",
    "print(tukey)\n"
   ]
  },
  {
   "cell_type": "markdown",
   "id": "0d0b8314",
   "metadata": {},
   "source": [
    "The Tukey HSD post-hoc analysis results reveal the differences in math final grades (G3_x) between groups of students categorized by combined parental education levels. Here's a breakdown and interpretation of your results:\n",
    "\n",
    "Tukey HSD Results Interpretation\n",
    "Group 1 vs. Group 2: The mean difference is 1.4389, with a p-value of 0.3847. The difference is not statistically significant (reject = False), suggesting that, between these two levels of combined parental education, there isn't a significant difference in math grades.\n",
    "\n",
    "Group 1 vs. Group 3: The mean difference is 2.2878, with a p-value of 0.0532. This comparison is on the edge of significance (reject = False), indicating a marginal difference in math grades that might suggest a trend but does not meet the conventional threshold for statistical significance.\n",
    "\n",
    "Group 1 vs. Group 4: The mean difference is 3.3255, with a p-value of 0.0006. This difference is statistically significant (reject = True), indicating that students whose parents have the highest level of combined education (Group 4) perform significantly better in math than those with the lowest level of combined parental education (Group 1).\n",
    "\n",
    "Group 2 vs. Group 3: The mean difference is 0.8489, with a p-value of 0.5858. The difference is not statistically significant (reject = False), suggesting no significant difference in math grades between these two levels of combined parental education.\n",
    "\n",
    "Group 2 vs. Group 4: The mean difference is 1.8866, with a p-value of 0.0105. This difference is statistically significant (reject = True), indicating that students with parents at the highest level of combined education (Group 4) achieve significantly higher math grades than those in Group 2.\n",
    "\n",
    "Group 3 vs. Group 4: The mean difference is 1.0377, with a p-value of 0.2961. The difference is not statistically significant (reject = False), suggesting that there isn't a significant difference in math grades between these groups.\n",
    "\n",
    "Overall Conclusion\n",
    "The Tukey HSD results highlight significant differences in math performance primarily related to the highest level of combined parental education (Group 4) compared to the lower levels (Groups 1 and 2). This suggests a notable advantage in math grades for students whose parents have the highest education levels.\n",
    "\n",
    "\n",
    "The significant difference between Group 1 (lowest level of parental education) and Group 4 (highest level of parental education) underscores the potential impact of parental education background on student academic performance.\n",
    "The marginal significance between Groups 1 and 3 suggests a potential trend where higher parental education may correlate with better student performance, though the evidence is not as strong.\n",
    "\n",
    "The lack of significance between Groups 2 and 3, and between Groups 3 and 4, suggests that the middle categories of parental education do not differ markedly from each other in terms of their association with student math grades.\n",
    "These insights could be instrumental for educators and policymakers in understanding the role of parental education in student academic outcomes and developing targeted support for students who may benefit from additional resources or interventions."
   ]
  },
  {
   "cell_type": "code",
   "execution_count": 12,
   "id": "78e0f2fc",
   "metadata": {},
   "outputs": [
    {
     "name": "stdout",
     "output_type": "stream",
     "text": [
      "ANOVA for Portuguese Subject - Combined Parental Education:\n",
      "F-statistic: 6.437, p-value: 0.000\n"
     ]
    }
   ],
   "source": [
    "# Lets check for the portugese Subject \n",
    "from scipy.stats import f_oneway\n",
    "\n",
    "# Extracting final grades for each combined parental education level for the Portuguese subject\n",
    "grades_by_parent_edu_y = [d3[d3['Combined_Parent_Edu'] == level]['G3_y'] for level in range(1, 5)]  # Levels 1 to 4\n",
    "\n",
    "# Performing ANOVA\n",
    "f_stat_y, p_value_y = f_oneway(*grades_by_parent_edu_y)\n",
    "\n",
    "print(f'ANOVA for Portuguese Subject - Combined Parental Education:')\n",
    "print(f'F-statistic: {f_stat_y:.3f}, p-value: {p_value_y:.3f}')\n"
   ]
  },
  {
   "cell_type": "markdown",
   "id": "2a763047",
   "metadata": {},
   "source": [
    "Interpretation:\n",
    "\n",
    "These results signify that there are statistically significant differences in Portuguese final grades (G3_y) among the different levels of combined parental education. The very low p-value (reported as 0.000, which suggests it's extremely close to zero but not exactly zero due to rounding) strongly suggests rejecting the null hypothesis in favor of the alternative hypothesis. This indicates that the level of parental education has a significant effect on student performance in Portuguese, similar to the Math subject results."
   ]
  },
  {
   "cell_type": "code",
   "execution_count": 13,
   "id": "84931fc4",
   "metadata": {},
   "outputs": [
    {
     "name": "stdout",
     "output_type": "stream",
     "text": [
      "Multiple Comparison of Means - Tukey HSD, FWER=0.05\n",
      "===================================================\n",
      "group1 group2 meandiff p-adj   lower  upper  reject\n",
      "---------------------------------------------------\n",
      "     1      2   0.3444 0.9303 -1.1233 1.8122  False\n",
      "     1      3   0.8505 0.4319 -0.6021 2.3031  False\n",
      "     1      4   1.7264  0.007  0.3526 3.1002   True\n",
      "     2      3   0.5061  0.628 -0.5833 1.5954  False\n",
      "     2      4    1.382 0.0018  0.4002 2.3638   True\n",
      "     3      4   0.8759 0.0873  -0.083 1.8348  False\n",
      "---------------------------------------------------\n"
     ]
    }
   ],
   "source": [
    "from statsmodels.stats.multicomp import pairwise_tukeyhsd\n",
    "\n",
    "# Assuming 'd3' has a column 'G3_y' for Portuguese grades and 'Combined_Parent_Edu' for combined education levels\n",
    "tukey_results_y = pairwise_tukeyhsd(endog=d3['G3_y'], groups=d3['Combined_Parent_Edu'], alpha=0.05)\n",
    "\n",
    "print(tukey_results_y)\n"
   ]
  },
  {
   "cell_type": "markdown",
   "id": "5fd52a79",
   "metadata": {},
   "source": [
    "The Tukey HSD post-hoc analysis results for the Portuguese subject, given the combined parental education levels, provide detailed comparisons between different levels of parental education regarding their impact on Portuguese final grades (G3_y). Here's how to interpret these findings:\n",
    "\n",
    "Tukey HSD Results Interpretation\n",
    "Group 1 vs. Group 2:\n",
    "\n",
    "Mean Difference: 0.3444, p-value: 0.9303.\n",
    "The difference is not statistically significant (reject = False), suggesting no significant difference in Portuguese grades between these two levels of parental education.\n",
    "Group 1 vs. Group 3:\n",
    "\n",
    "Mean Difference: 0.8505, p-value: 0.4319.\n",
    "The difference is not statistically significant (reject = False), indicating that the difference in Portuguese grades between these levels of parental education is not statistically meaningful.\n",
    "Group 1 vs. Group 4:\n",
    "\n",
    "Mean Difference: 1.7264, p-value: 0.007.\n",
    "This difference is statistically significant (reject = True), indicating that students whose parents have the highest level of education (Group 4) perform significantly better in Portuguese than those with the lowest level of parental education (Group 1).\n",
    "Group 2 vs. Group 3:\n",
    "\n",
    "Mean Difference: 0.5061, p-value: 0.628.\n",
    "The difference is not statistically significant (reject = False), suggesting no significant impact of these specific levels of parental education on Portuguese grades.\n",
    "Group 2 vs. Group 4:\n",
    "\n",
    "Mean Difference: 1.382, p-value: 0.0018.\n",
    "This difference is statistically significant (reject = True), indicating that students with parents at the highest education level (Group 4) have significantly higher Portuguese grades than those in Group 2.\n",
    "Group 3 vs. Group 4:\n",
    "\n",
    "Mean Difference: 0.8759, p-value: 0.0873.\n",
    "The difference is not statistically significant (reject = False), but it's closer to the threshold for significance, suggesting a potential trend where higher parental education might be associated with better Portuguese grades, although this specific comparison does not meet the conventional significance level.\n",
    "Overall Conclusion\n",
    "The Tukey HSD post-hoc analysis underscores the significant advantage in Portuguese grades for students whose parents have the highest level of combined education (Group 4), particularly compared to those with the lowest level of combined parental education (Group 1) and those in the intermediate group (Group 2). These findings suggest that higher parental education levels might contribute to an environment that supports better academic outcomes in Portuguese, similar to what was observed in Math.\n",
    "\n",
    "However, the lack of significant differences between some of the groups, especially between the intermediate levels of parental education (Groups 2 and 3 vs. Group 4), indicates that while parental education is a factor, its impact might be more nuanced and could depend on other supporting factors or thresholds beyond which additional educational attainment in parents does not translate into significant incremental academic performance benefits for their children in Portuguese.\n",
    "\n",
    "These insights can inform targeted educational policies and practices aimed at leveraging parental education as a resource for improving student performance, recognizing the role of family background in educational achievement.\n",
    "\n",
    "\n",
    "\n",
    "\n",
    "\n",
    "\n"
   ]
  },
  {
   "cell_type": "code",
   "execution_count": null,
   "id": "d9348015",
   "metadata": {},
   "outputs": [],
   "source": []
  }
 ],
 "metadata": {
  "kernelspec": {
   "display_name": "Python 3 (ipykernel)",
   "language": "python",
   "name": "python3"
  },
  "language_info": {
   "codemirror_mode": {
    "name": "ipython",
    "version": 3
   },
   "file_extension": ".py",
   "mimetype": "text/x-python",
   "name": "python",
   "nbconvert_exporter": "python",
   "pygments_lexer": "ipython3",
   "version": "3.11.5"
  }
 },
 "nbformat": 4,
 "nbformat_minor": 5
}
